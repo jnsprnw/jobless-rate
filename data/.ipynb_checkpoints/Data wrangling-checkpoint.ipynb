{
 "cells": [
  {
   "cell_type": "markdown",
   "metadata": {},
   "source": [
    "# Data wrangling\n",
    "\n",
    "I found the data by opening the Developer Console in Chrome. Switched to the Network tab. Sorted by size and then found the file [kq-data.txt](https://static01.nyt.com/packages/flash/newsgraphics/2009/1102-lines/kq-data.txt).\n",
    "\n",
    "I’m not sure what format this file followed (might be some Flash format), so I just opened the file in Sublime Text and replaced every space with and comma and change the file extention to `csv` by simple renaming the file. This allowed me to import the file with [CSV.jl](https://juliadata.github.io/CSV.jl/stable/).\n",
    "\n",
    "I'm also using [JSON.jl](https://github.com/JuliaIO/JSON.jl) to export the data later."
   ]
  },
  {
   "cell_type": "code",
   "execution_count": 44,
   "metadata": {},
   "outputs": [],
   "source": [
    "using CSV\n",
    "using JSON"
   ]
  },
  {
   "cell_type": "markdown",
   "metadata": {},
   "source": [
    "First, import the data. It will give you a preview. You can already see that the column names are not really useful."
   ]
  },
  {
   "cell_type": "code",
   "execution_count": 42,
   "metadata": {},
   "outputs": [
    {
     "data": {
      "text/html": [
       "<table class=\"data-frame\"><thead><tr><th></th><th>count:integer</th><th>0000-n:Number</th><th>0001-n:Number</th><th>0002-n:Number</th><th>0003-n:Number</th><th>0010-n:Number</th></tr><tr><th></th><th>Int64</th><th>Float64</th><th>Float64</th><th>Float64</th><th>Float64</th><th>Float64</th></tr></thead><tbody><p>33 rows × 241 columns (omitted printing of 235 columns)</p><tr><th>1</th><td>1</td><td>4.73258</td><td>10.2666</td><td>4.81456</td><td>2.2069</td><td>10.8188</td></tr><tr><th>2</th><td>2</td><td>4.71009</td><td>10.2726</td><td>4.79065</td><td>2.17718</td><td>10.773</td></tr><tr><th>3</th><td>3</td><td>4.68298</td><td>10.2504</td><td>4.76913</td><td>2.14538</td><td>10.712</td></tr><tr><th>4</th><td>4</td><td>4.66219</td><td>10.3068</td><td>4.74047</td><td>2.11956</td><td>10.7068</td></tr><tr><th>5</th><td>5</td><td>4.64944</td><td>10.3331</td><td>4.72436</td><td>2.11481</td><td>10.6984</td></tr><tr><th>6</th><td>6</td><td>4.64208</td><td>10.3301</td><td>4.72449</td><td>2.11457</td><td>10.7035</td></tr><tr><th>7</th><td>7</td><td>4.63167</td><td>10.2938</td><td>4.72111</td><td>2.12576</td><td>10.656</td></tr><tr><th>8</th><td>8</td><td>4.62503</td><td>10.2602</td><td>4.7169</td><td>2.15031</td><td>10.6505</td></tr><tr><th>9</th><td>9</td><td>4.63764</td><td>10.3551</td><td>4.72564</td><td>2.1549</td><td>10.6926</td></tr><tr><th>10</th><td>10</td><td>4.66169</td><td>10.4285</td><td>4.75333</td><td>2.17056</td><td>10.7096</td></tr><tr><th>11</th><td>11</td><td>4.67766</td><td>10.5488</td><td>4.74871</td><td>2.19855</td><td>10.7465</td></tr><tr><th>12</th><td>12</td><td>4.72016</td><td>10.6716</td><td>4.79507</td><td>2.21612</td><td>10.8784</td></tr><tr><th>13</th><td>13</td><td>4.74783</td><td>10.7963</td><td>4.82104</td><td>2.22398</td><td>10.984</td></tr><tr><th>14</th><td>14</td><td>4.77786</td><td>10.8486</td><td>4.86778</td><td>2.24293</td><td>11.0859</td></tr><tr><th>15</th><td>15</td><td>4.83997</td><td>10.9789</td><td>4.94922</td><td>2.2649</td><td>11.2133</td></tr><tr><th>16</th><td>16</td><td>4.87788</td><td>11.0304</td><td>5.00601</td><td>2.27995</td><td>11.2507</td></tr><tr><th>17</th><td>17</td><td>4.96148</td><td>11.2273</td><td>5.10374</td><td>2.30183</td><td>11.5123</td></tr><tr><th>18</th><td>18</td><td>5.04728</td><td>11.4492</td><td>5.19791</td><td>2.32692</td><td>11.7242</td></tr><tr><th>19</th><td>19</td><td>5.14541</td><td>11.7053</td><td>5.2996</td><td>2.36325</td><td>12.0101</td></tr><tr><th>20</th><td>20</td><td>5.27066</td><td>11.9813</td><td>5.43149</td><td>2.4267</td><td>12.231</td></tr><tr><th>21</th><td>21</td><td>5.38968</td><td>12.1578</td><td>5.58539</td><td>2.46915</td><td>12.4208</td></tr><tr><th>22</th><td>22</td><td>5.53025</td><td>12.4577</td><td>5.72982</td><td>2.55116</td><td>12.6462</td></tr><tr><th>23</th><td>23</td><td>5.68771</td><td>12.71</td><td>5.92109</td><td>2.62582</td><td>12.8506</td></tr><tr><th>24</th><td>24</td><td>5.8827</td><td>13.0575</td><td>6.12871</td><td>2.75591</td><td>13.0884</td></tr><tr><th>25</th><td>25</td><td>6.14195</td><td>13.4469</td><td>6.42067</td><td>2.91986</td><td>13.3554</td></tr><tr><th>26</th><td>26</td><td>6.44743</td><td>13.9282</td><td>6.75576</td><td>3.10794</td><td>13.7305</td></tr><tr><th>27</th><td>27</td><td>6.76247</td><td>14.4426</td><td>7.09948</td><td>3.29966</td><td>14.1317</td></tr><tr><th>28</th><td>28</td><td>7.08342</td><td>15.0087</td><td>7.45469</td><td>3.47593</td><td>14.5809</td></tr><tr><th>29</th><td>29</td><td>7.40246</td><td>15.5583</td><td>7.79576</td><td>3.68078</td><td>14.9822</td></tr><tr><th>30</th><td>30</td><td>7.73906</td><td>16.1108</td><td>8.16034</td><td>3.89559</td><td>15.501</td></tr><tr><th>&vellip;</th><td>&vellip;</td><td>&vellip;</td><td>&vellip;</td><td>&vellip;</td><td>&vellip;</td><td>&vellip;</td></tr></tbody></table>"
      ],
      "text/latex": [
       "\\begin{tabular}{r|ccccccc}\n",
       "\t& count:integer & 0000-n:Number & 0001-n:Number & 0002-n:Number & 0003-n:Number & 0010-n:Number & \\\\\n",
       "\t\\hline\n",
       "\t& Int64 & Float64 & Float64 & Float64 & Float64 & Float64 & \\\\\n",
       "\t\\hline\n",
       "\t1 & 1 & 4.73258 & 10.2666 & 4.81456 & 2.2069 & 10.8188 & $\\dots$ \\\\\n",
       "\t2 & 2 & 4.71009 & 10.2726 & 4.79065 & 2.17718 & 10.773 & $\\dots$ \\\\\n",
       "\t3 & 3 & 4.68298 & 10.2504 & 4.76913 & 2.14538 & 10.712 & $\\dots$ \\\\\n",
       "\t4 & 4 & 4.66219 & 10.3068 & 4.74047 & 2.11956 & 10.7068 & $\\dots$ \\\\\n",
       "\t5 & 5 & 4.64944 & 10.3331 & 4.72436 & 2.11481 & 10.6984 & $\\dots$ \\\\\n",
       "\t6 & 6 & 4.64208 & 10.3301 & 4.72449 & 2.11457 & 10.7035 & $\\dots$ \\\\\n",
       "\t7 & 7 & 4.63167 & 10.2938 & 4.72111 & 2.12576 & 10.656 & $\\dots$ \\\\\n",
       "\t8 & 8 & 4.62503 & 10.2602 & 4.7169 & 2.15031 & 10.6505 & $\\dots$ \\\\\n",
       "\t9 & 9 & 4.63764 & 10.3551 & 4.72564 & 2.1549 & 10.6926 & $\\dots$ \\\\\n",
       "\t10 & 10 & 4.66169 & 10.4285 & 4.75333 & 2.17056 & 10.7096 & $\\dots$ \\\\\n",
       "\t11 & 11 & 4.67766 & 10.5488 & 4.74871 & 2.19855 & 10.7465 & $\\dots$ \\\\\n",
       "\t12 & 12 & 4.72016 & 10.6716 & 4.79507 & 2.21612 & 10.8784 & $\\dots$ \\\\\n",
       "\t13 & 13 & 4.74783 & 10.7963 & 4.82104 & 2.22398 & 10.984 & $\\dots$ \\\\\n",
       "\t14 & 14 & 4.77786 & 10.8486 & 4.86778 & 2.24293 & 11.0859 & $\\dots$ \\\\\n",
       "\t15 & 15 & 4.83997 & 10.9789 & 4.94922 & 2.2649 & 11.2133 & $\\dots$ \\\\\n",
       "\t16 & 16 & 4.87788 & 11.0304 & 5.00601 & 2.27995 & 11.2507 & $\\dots$ \\\\\n",
       "\t17 & 17 & 4.96148 & 11.2273 & 5.10374 & 2.30183 & 11.5123 & $\\dots$ \\\\\n",
       "\t18 & 18 & 5.04728 & 11.4492 & 5.19791 & 2.32692 & 11.7242 & $\\dots$ \\\\\n",
       "\t19 & 19 & 5.14541 & 11.7053 & 5.2996 & 2.36325 & 12.0101 & $\\dots$ \\\\\n",
       "\t20 & 20 & 5.27066 & 11.9813 & 5.43149 & 2.4267 & 12.231 & $\\dots$ \\\\\n",
       "\t21 & 21 & 5.38968 & 12.1578 & 5.58539 & 2.46915 & 12.4208 & $\\dots$ \\\\\n",
       "\t22 & 22 & 5.53025 & 12.4577 & 5.72982 & 2.55116 & 12.6462 & $\\dots$ \\\\\n",
       "\t23 & 23 & 5.68771 & 12.71 & 5.92109 & 2.62582 & 12.8506 & $\\dots$ \\\\\n",
       "\t24 & 24 & 5.8827 & 13.0575 & 6.12871 & 2.75591 & 13.0884 & $\\dots$ \\\\\n",
       "\t25 & 25 & 6.14195 & 13.4469 & 6.42067 & 2.91986 & 13.3554 & $\\dots$ \\\\\n",
       "\t26 & 26 & 6.44743 & 13.9282 & 6.75576 & 3.10794 & 13.7305 & $\\dots$ \\\\\n",
       "\t27 & 27 & 6.76247 & 14.4426 & 7.09948 & 3.29966 & 14.1317 & $\\dots$ \\\\\n",
       "\t28 & 28 & 7.08342 & 15.0087 & 7.45469 & 3.47593 & 14.5809 & $\\dots$ \\\\\n",
       "\t29 & 29 & 7.40246 & 15.5583 & 7.79576 & 3.68078 & 14.9822 & $\\dots$ \\\\\n",
       "\t30 & 30 & 7.73906 & 16.1108 & 8.16034 & 3.89559 & 15.501 & $\\dots$ \\\\\n",
       "\t$\\dots$ & $\\dots$ & $\\dots$ & $\\dots$ & $\\dots$ & $\\dots$ & $\\dots$ &  \\\\\n",
       "\\end{tabular}\n"
      ],
      "text/plain": [
       "33×241 DataFrames.DataFrame. Omitted printing of 237 columns\n",
       "│ Row │ count:integer │ 0000-n:Number │ 0001-n:Number │ 0002-n:Number │\n",
       "│     │ \u001b[90mInt64\u001b[39m         │ \u001b[90mFloat64\u001b[39m       │ \u001b[90mFloat64\u001b[39m       │ \u001b[90mFloat64\u001b[39m       │\n",
       "├─────┼───────────────┼───────────────┼───────────────┼───────────────┤\n",
       "│ 1   │ 1             │ 4.73258       │ 10.2666       │ 4.81456       │\n",
       "│ 2   │ 2             │ 4.71009       │ 10.2726       │ 4.79065       │\n",
       "│ 3   │ 3             │ 4.68298       │ 10.2504       │ 4.76913       │\n",
       "│ 4   │ 4             │ 4.66219       │ 10.3068       │ 4.74047       │\n",
       "│ 5   │ 5             │ 4.64944       │ 10.3331       │ 4.72436       │\n",
       "│ 6   │ 6             │ 4.64208       │ 10.3301       │ 4.72449       │\n",
       "│ 7   │ 7             │ 4.63167       │ 10.2938       │ 4.72111       │\n",
       "│ 8   │ 8             │ 4.62503       │ 10.2602       │ 4.7169        │\n",
       "│ 9   │ 9             │ 4.63764       │ 10.3551       │ 4.72564       │\n",
       "│ 10  │ 10            │ 4.66169       │ 10.4285       │ 4.75333       │\n",
       "⋮\n",
       "│ 23  │ 23            │ 5.68771       │ 12.71         │ 5.92109       │\n",
       "│ 24  │ 24            │ 5.8827        │ 13.0575       │ 6.12871       │\n",
       "│ 25  │ 25            │ 6.14195       │ 13.4469       │ 6.42067       │\n",
       "│ 26  │ 26            │ 6.44743       │ 13.9282       │ 6.75576       │\n",
       "│ 27  │ 27            │ 6.76247       │ 14.4426       │ 7.09948       │\n",
       "│ 28  │ 28            │ 7.08342       │ 15.0087       │ 7.45469       │\n",
       "│ 29  │ 29            │ 7.40246       │ 15.5583       │ 7.79576       │\n",
       "│ 30  │ 30            │ 7.73906       │ 16.1108       │ 8.16034       │\n",
       "│ 31  │ 31            │ 8.04998       │ 16.61         │ 8.49635       │\n",
       "│ 32  │ 32            │ 8.33844       │ 17.0625       │ 8.81314       │\n",
       "│ 33  │ 33            │ 8.62457       │ 17.4593       │ 9.13185       │"
      ]
     },
     "execution_count": 42,
     "metadata": {},
     "output_type": "execute_result"
    }
   ],
   "source": [
    "data = CSV.read(\"kq-data.csv\")"
   ]
  },
  {
   "cell_type": "markdown",
   "metadata": {},
   "source": [
    "I did some manual checking and found out that every column is one group of people with the first year’s value in the first row and last year’s value in the last row.\n",
    "\n",
    "The order is also simple and follows the order of the option at the top.\n",
    "\n",
    "So loop over every column I create Tuples with every category. The order of the items is obviously important and the same as in the options."
   ]
  },
  {
   "cell_type": "code",
   "execution_count": 19,
   "metadata": {},
   "outputs": [
    {
     "data": {
      "text/plain": [
       "(\"allRaces\", \"white\", \"black\", \"hispanic\", \"allOtherRaces\")"
      ]
     },
     "execution_count": 19,
     "metadata": {},
     "output_type": "execute_result"
    }
   ],
   "source": [
    "RACES = (\n",
    "    \"allRaces\",\n",
    "    \"white\",\n",
    "    \"black\",\n",
    "    \"hispanic\",\n",
    "    \"allOtherRaces\"\n",
    ")"
   ]
  },
  {
   "cell_type": "markdown",
   "metadata": {},
   "source": [
    "I’m always indicating that it’s an array by adding an »s« to the end of the variable name."
   ]
  },
  {
   "cell_type": "code",
   "execution_count": 27,
   "metadata": {},
   "outputs": [
    {
     "data": {
      "text/plain": [
       "(\"menAndWomen\", \"men\", \"women\")"
      ]
     },
     "execution_count": 27,
     "metadata": {},
     "output_type": "execute_result"
    }
   ],
   "source": [
    "GENDERS = (\"menAndWomen\", \"men\", \"women\")"
   ]
  },
  {
   "cell_type": "code",
   "execution_count": 7,
   "metadata": {},
   "outputs": [
    {
     "data": {
      "text/plain": [
       "(\"allAges\", \"age15to24\", \"age25to44\", \"age45older\")"
      ]
     },
     "execution_count": 7,
     "metadata": {},
     "output_type": "execute_result"
    }
   ],
   "source": [
    "AGES = (\"allAges\", \"age15to24\", \"age25to44\", \"age45older\")"
   ]
  },
  {
   "cell_type": "code",
   "execution_count": 26,
   "metadata": {},
   "outputs": [
    {
     "data": {
      "text/plain": [
       "(\"allEducation\", \"noHighSchool\", \"highSchool\", \"college\")"
      ]
     },
     "execution_count": 26,
     "metadata": {},
     "output_type": "execute_result"
    }
   ],
   "source": [
    "EDUCATIONS = (\"allEducation\", \"noHighSchool\", \"highSchool\", \"college\")"
   ]
  },
  {
   "cell_type": "markdown",
   "metadata": {},
   "source": [
    "Before we loop over all the categories, we create an empty Dictionary that uses a String as key and an Array of Float64 numbers as value.\n",
    "\n",
    "We will use this Dictionary to save the data as we loop over the table."
   ]
  },
  {
   "cell_type": "code",
   "execution_count": 38,
   "metadata": {},
   "outputs": [
    {
     "data": {
      "text/plain": [
       "Dict{String,Array{Float64,1}} with 0 entries"
      ]
     },
     "execution_count": 38,
     "metadata": {},
     "output_type": "execute_result"
    }
   ],
   "source": [
    "rows = Dict{String, Array{Float64,1}}()"
   ]
  },
  {
   "cell_type": "markdown",
   "metadata": {},
   "source": [
    "Next, we loop over all option. Again, the order of the loops is important.\n",
    "In every loop we increase the value of `col` by one. This variable stores the index of the current column. Note that Julia starts Arrays with index 1.\n",
    "\n",
    "The beauty of multidimensional Arrays in Julia is that we can easily access columns and rows.\n",
    "We can get the whole column as an Array of values by simply using `[!, column]`.\n",
    "\n",
    "Next, we build the key for the Dictionary by creating a String from the variables.\n",
    "\n",
    "Finally, we insert our values in the Dictionary."
   ]
  },
  {
   "cell_type": "code",
   "execution_count": 40,
   "metadata": {},
   "outputs": [],
   "source": [
    "col = 2 # Column index starting with 2 as the first one in \n",
    "for race in RACES\n",
    "    for gender in GENDERS\n",
    "        for age in AGES\n",
    "            for education in EDUCATIONS\n",
    "                values = data[!, col]\n",
    "                id = \"$(race)_$(gender)_$(age)_$(education)\"\n",
    "                rows[id] = values\n",
    "                col += 1\n",
    "            end\n",
    "        end\n",
    "    end\n",
    "end"
   ]
  },
  {
   "cell_type": "markdown",
   "metadata": {},
   "source": [
    "Return `rows` to check if everything looks good."
   ]
  },
  {
   "cell_type": "code",
   "execution_count": 41,
   "metadata": {},
   "outputs": [
    {
     "data": {
      "text/plain": [
       "Dict{String,Array{Float64,1}} with 240 entries:\n",
       "  \"allOtherRaces_menAndWom… => [4.31109, 4.31713, 4.32004, 4.30017, 4.29018, 4.…\n",
       "  \"hispanic_men_age25to44_… => [4.0421, 4.02537, 3.98079, 3.93781, 4.00956, 4.0…\n",
       "  \"allOtherRaces_menAndWom… => [18.4925, 19.1859, 18.899, 19.5497, 20.1891, 20.…\n",
       "  \"allOtherRaces_men_age25… => [4.84914, 4.78612, 4.6448, 4.58582, 4.65058, 4.7…\n",
       "  \"allOtherRaces_women_age… => [2.82012, 2.78981, 2.76302, 2.80615, 2.78104, 2.…\n",
       "  \"allOtherRaces_men_allAg… => [2.03191, 2.00159, 1.98796, 1.97333, 2.07081, 2.…\n",
       "  \"white_men_allAges_allEd… => [4.01629, 4.02153, 3.99915, 3.97755, 3.93652, 3.…\n",
       "  \"hispanic_men_allAges_hi… => [4.45, 4.39588, 4.39935, 4.36013, 4.49064, 4.488…\n",
       "  \"allOtherRaces_women_age… => [2.56489, 2.60989, 2.80246, 2.88729, 2.83506, 2.…\n",
       "  \"white_menAndWomen_age25… => [1.82169, 1.77103, 1.72781, 1.70039, 1.69167, 1.…\n",
       "  \"white_women_age45older_… => [4.74944, 4.44215, 4.3269, 4.25204, 4.17455, 3.9…\n",
       "  \"allRaces_menAndWomen_ag… => [4.16095, 4.13025, 4.08897, 4.05122, 4.03958, 4.…\n",
       "  \"hispanic_women_age45old… => [3.48543, 3.46867, 3.38026, 3.3929, 3.32001, 3.2…\n",
       "  \"allOtherRaces_women_age… => [4.55391, 4.51312, 5.41586, 4.88872, 4.73524, 5.…\n",
       "  \"allRaces_women_age45old… => [5.37844, 5.19931, 5.22389, 5.23541, 5.24481, 5.…\n",
       "  \"black_menAndWomen_age45… => [5.54062, 5.61658, 5.6138, 5.57252, 5.57742, 5.5…\n",
       "  \"hispanic_women_allAges_… => [2.45543, 2.43359, 2.44124, 2.47853, 2.44705, 2.…\n",
       "  \"allOtherRaces_men_age25… => [1.57145, 1.66102, 1.86893, 1.91881, 1.99482, 2.…\n",
       "  \"white_men_allAges_colle… => [2.06292, 2.03588, 1.99587, 1.95399, 1.95172, 1.…\n",
       "  \"allRaces_women_age15to2… => [8.00159, 7.87371, 7.78855, 7.7193, 7.66259, 7.5…\n",
       "  \"allRaces_women_age25to4… => [4.34377, 4.27485, 4.20184, 4.15413, 4.14663, 4.…\n",
       "  \"black_menAndWomen_age25… => [8.39403, 8.27731, 8.21136, 8.09387, 8.16976, 8.…\n",
       "  \"white_men_age25to44_col… => [1.86661, 1.81983, 1.76205, 1.72794, 1.71335, 1.…\n",
       "  \"hispanic_women_age25to4… => [5.03156, 5.00369, 4.89719, 4.76869, 4.82624, 4.…\n",
       "  \"black_menAndWomen_age15… => [17.2686, 16.8675, 16.7085, 16.4364, 16.1439, 16…\n",
       "  ⋮                         => ⋮"
      ]
     },
     "execution_count": 41,
     "metadata": {},
     "output_type": "execute_result"
    }
   ],
   "source": [
    "rows"
   ]
  },
  {
   "cell_type": "markdown",
   "metadata": {},
   "source": [
    "Finally, we convert the Dictionary to a JSON (with 2 spaces as indents) and writing everything to `data.json`."
   ]
  },
  {
   "cell_type": "code",
   "execution_count": 46,
   "metadata": {},
   "outputs": [],
   "source": [
    "open(\"data.json\", \"w\") do io\n",
    "   write(io, JSON.json(rows, 2));\n",
    "end;"
   ]
  }
 ],
 "metadata": {
  "kernelspec": {
   "display_name": "Julia 1.1.0",
   "language": "julia",
   "name": "julia-1.1"
  },
  "language_info": {
   "file_extension": ".jl",
   "mimetype": "application/julia",
   "name": "julia",
   "version": "1.1.0"
  }
 },
 "nbformat": 4,
 "nbformat_minor": 4
}
